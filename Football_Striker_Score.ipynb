{
 "cells": [
  {
   "cell_type": "markdown",
   "metadata": {},
   "source": [
    "# Data Aquisition\n"
   ]
  },
  {
   "cell_type": "markdown",
   "metadata": {},
   "source": [
    "### Code Used In Order To Be Able To Import The Data from GitHub"
   ]
  },
  {
   "cell_type": "markdown",
   "metadata": {},
   "source": [
    "https://g.co/bard/share/ff1d6b646bb3;\n",
    "https://g.co/bard/share/2c5926525245;\n",
    "https://g.co/bard/share/fcb3f1361519;"
   ]
  },
  {
   "cell_type": "code",
   "execution_count": 9,
   "metadata": {},
   "outputs": [
    {
     "name": "stdout",
     "output_type": "stream",
     "text": [
      "File downloaded successfully\n"
     ]
    }
   ],
   "source": [
    "import requests\n",
    "\n",
    "url = \"https://raw.githubusercontent.com/frankieinguanez/com.mcast.adad2023/main/football_striker_score.csv\"\n",
    "\n",
    "response = requests.get(url)\n",
    "\n",
    "if response.status_code == 200:\n",
    "    with open('football_striker_score.csv', 'wb') as f:\n",
    "        f.write(response.content)\n",
    "    print(\"File downloaded successfully\")\n",
    "else:\n",
    "    print(\"Error downloading file\")\n"
   ]
  },
  {
   "cell_type": "code",
   "execution_count": 10,
   "metadata": {},
   "outputs": [
    {
     "ename": "SyntaxError",
     "evalue": "(unicode error) 'unicodeescape' codec can't decode bytes in position 2-3: truncated \\UXXXXXXXX escape (2202766801.py, line 5)",
     "output_type": "error",
     "traceback": [
      "\u001b[1;36m  Input \u001b[1;32mIn [10]\u001b[1;36m\u001b[0m\n\u001b[1;33m    folder_path = \"C:\\Users\\User\\OneDrive\\Advanced Data Analytics\\Home Assignment Research\\GitHub\\Advanced-Data-Analytics\\Football_Striker_Score.ipynb\"\u001b[0m\n\u001b[1;37m                                                                                                                                                       ^\u001b[0m\n\u001b[1;31mSyntaxError\u001b[0m\u001b[1;31m:\u001b[0m (unicode error) 'unicodeescape' codec can't decode bytes in position 2-3: truncated \\UXXXXXXXX escape\n"
     ]
    }
   ],
   "source": [
    "import pandas as pd\n",
    "import os\n",
    "\n",
    "# Get the path to the folder containing the CSV files\n",
    "folder_path = \"C:\\Users\\User\\OneDrive\\Advanced Data Analytics\\Home Assignment Research\\GitHub\\Advanced-Data-Analytics\\Football_Striker_Score.ipynb\"\n",
    "\n",
    "# Get a list of all CSV files in the folder\n",
    "csv_files = os.listdir(folder_path)\n",
    "\n",
    "# Import each CSV file into a DataFrame\n",
    "for csv_file in csv_files:\n",
    "    if csv_file.endswith('football_striker_score.csv'):\n",
    "        df = pd.read_csv(os.path.join(folder_path, csv_file))\n",
    "\n",
    "        # Process the DataFrame\n",
    "        \n"
   ]
  },
  {
   "cell_type": "code",
   "execution_count": null,
   "metadata": {},
   "outputs": [],
   "source": [
    "import requests\n",
    "import pandas as pd\n",
    "import os\n",
    "\n",
    "url = \"https://raw.githubusercontent.com/frankieinguanez/com.mcast.adad2023/main/football_striker_score.csv\"\n",
    "response = requests.get(url)\n",
    "\n",
    "if response.status_code == 200:\n",
    "    with open('C:/Users/User/OneDrive/Advanced Data Analytics/Home Assignment Research/GitHub/Advanced-Data-Analytics/Football_Striker_Score.csv', 'wb') as f:\n",
    "        f.write(response.content)\n",
    "\n",
    "        # Import the CSV file into a DataFrame\n",
    "        df = pd.read_csv('Football_Striker_Score.csv')\n",
    "\n",
    "        # Process the DataFrame\n",
    "        \n"
   ]
  },
  {
   "cell_type": "code",
   "execution_count": null,
   "metadata": {},
   "outputs": [],
   "source": [
    "import pandas as pd\n",
    "\n",
    "path = \"C:\\Users\\User\\OneDrive\\Advanced Data Analytics\\Home Assignment Research\\GitHub\\-com.mcast.adad2023.a02.Nwafor_Emmanuel\\football_striker_score.csv\"\n",
    "dataset = pd.read_csv(path)\n",
    "print(dataset.head())"
   ]
  },
  {
   "cell_type": "code",
   "execution_count": 12,
   "metadata": {},
   "outputs": [],
   "source": [
    "import os\n",
    "\n",
    "path = \"C:\\\\Users\\\\User\\\\OneDrive\\\\Advanced Data Analytics\\\\Home Assignment Research\\\\GitHub\\\\-com.mcast.adad2023.a02.Nwafor_Emmanuel\\\\football_striker_score.csv\"\n",
    "encoded_path = os.fsencode(path)\n",
    "decoded_path = encoded_path.decode(\"ISO-8859-1\")\n",
    "dataset = pd.read_csv(decoded_path)\n"
   ]
  },
  {
   "cell_type": "code",
   "execution_count": 14,
   "metadata": {},
   "outputs": [],
   "source": [
    "import os\n",
    "import re\n",
    "\n",
    "path = \"C:\\\\Users\\\\User\\\\OneDrive\\\\Advanced Data Analytics\\\\Home Assignment Research\\\\GitHub\\\\-com.mcast.adad2023.a02.Nwafor_Emmanuel\\\\football_striker_score.csv\"\n",
    "\n",
    "# Remove all Unicode escape sequences from the file path\n",
    "cleaned_path = re.sub(r\"\\\\U[0-9a-fA-F]{8}\", \"\", path)\n",
    "\n",
    "# Check if any Unicode escape sequences were removed\n",
    "if cleaned_path != path:\n",
    "    print(\"Removed Unicode escape sequences from the file path:\", cleaned_path)\n",
    "\n",
    "# Read the CSV file using the cleaned path\n",
    "dataset = pd.read_csv(cleaned_path)\n"
   ]
  },
  {
   "cell_type": "markdown",
   "metadata": {},
   "source": [
    "#### Displaying the first 5 rows of the DATASET"
   ]
  },
  {
   "cell_type": "code",
   "execution_count": 16,
   "metadata": {},
   "outputs": [
    {
     "data": {
      "text/html": [
       "<div>\n",
       "<style scoped>\n",
       "    .dataframe tbody tr th:only-of-type {\n",
       "        vertical-align: middle;\n",
       "    }\n",
       "\n",
       "    .dataframe tbody tr th {\n",
       "        vertical-align: top;\n",
       "    }\n",
       "\n",
       "    .dataframe thead th {\n",
       "        text-align: right;\n",
       "    }\n",
       "</style>\n",
       "<table border=\"1\" class=\"dataframe\">\n",
       "  <thead>\n",
       "    <tr style=\"text-align: right;\">\n",
       "      <th></th>\n",
       "      <th>ID</th>\n",
       "      <th>Age</th>\n",
       "      <th>Acceleration</th>\n",
       "      <th>Aggression</th>\n",
       "      <th>Agility</th>\n",
       "      <th>Balance</th>\n",
       "      <th>BallControl</th>\n",
       "      <th>Composure</th>\n",
       "      <th>Crossing</th>\n",
       "      <th>Dribbling</th>\n",
       "      <th>Finishing</th>\n",
       "      <th>Tackle</th>\n",
       "      <th>Overall</th>\n",
       "    </tr>\n",
       "  </thead>\n",
       "  <tbody>\n",
       "    <tr>\n",
       "      <th>0</th>\n",
       "      <td>0</td>\n",
       "      <td>32.0</td>\n",
       "      <td>89.0</td>\n",
       "      <td>63.0</td>\n",
       "      <td>89.0</td>\n",
       "      <td>63.0</td>\n",
       "      <td>93.0</td>\n",
       "      <td>95.0</td>\n",
       "      <td>85.0</td>\n",
       "      <td>91.0</td>\n",
       "      <td>94.0</td>\n",
       "      <td>NaN</td>\n",
       "      <td>94.0</td>\n",
       "    </tr>\n",
       "    <tr>\n",
       "      <th>1</th>\n",
       "      <td>3</td>\n",
       "      <td>30.0</td>\n",
       "      <td>88.0</td>\n",
       "      <td>78.0</td>\n",
       "      <td>86.0</td>\n",
       "      <td>60.0</td>\n",
       "      <td>91.0</td>\n",
       "      <td>83.0</td>\n",
       "      <td>77.0</td>\n",
       "      <td>86.0</td>\n",
       "      <td>94.0</td>\n",
       "      <td>NaN</td>\n",
       "      <td>92.0</td>\n",
       "    </tr>\n",
       "    <tr>\n",
       "      <th>2</th>\n",
       "      <td>5</td>\n",
       "      <td>28.0</td>\n",
       "      <td>79.0</td>\n",
       "      <td>80.0</td>\n",
       "      <td>78.0</td>\n",
       "      <td>80.0</td>\n",
       "      <td>89.0</td>\n",
       "      <td>87.0</td>\n",
       "      <td>62.0</td>\n",
       "      <td>85.0</td>\n",
       "      <td>91.0</td>\n",
       "      <td>NaN</td>\n",
       "      <td>91.0</td>\n",
       "    </tr>\n",
       "    <tr>\n",
       "      <th>3</th>\n",
       "      <td>9</td>\n",
       "      <td>29.0</td>\n",
       "      <td>78.0</td>\n",
       "      <td>50.0</td>\n",
       "      <td>75.0</td>\n",
       "      <td>69.0</td>\n",
       "      <td>85.0</td>\n",
       "      <td>86.0</td>\n",
       "      <td>68.0</td>\n",
       "      <td>84.0</td>\n",
       "      <td>91.0</td>\n",
       "      <td>NaN</td>\n",
       "      <td>90.0</td>\n",
       "    </tr>\n",
       "    <tr>\n",
       "      <th>4</th>\n",
       "      <td>13</td>\n",
       "      <td>28.0</td>\n",
       "      <td>88.0</td>\n",
       "      <td>80.0</td>\n",
       "      <td>90.0</td>\n",
       "      <td>87.0</td>\n",
       "      <td>87.0</td>\n",
       "      <td>86.0</td>\n",
       "      <td>80.0</td>\n",
       "      <td>90.0</td>\n",
       "      <td>85.0</td>\n",
       "      <td>NaN</td>\n",
       "      <td>89.0</td>\n",
       "    </tr>\n",
       "  </tbody>\n",
       "</table>\n",
       "</div>"
      ],
      "text/plain": [
       "   ID   Age  Acceleration  Aggression  Agility  Balance  BallControl  \\\n",
       "0   0  32.0          89.0        63.0     89.0     63.0         93.0   \n",
       "1   3  30.0          88.0        78.0     86.0     60.0         91.0   \n",
       "2   5  28.0          79.0        80.0     78.0     80.0         89.0   \n",
       "3   9  29.0          78.0        50.0     75.0     69.0         85.0   \n",
       "4  13  28.0          88.0        80.0     90.0     87.0         87.0   \n",
       "\n",
       "   Composure  Crossing  Dribbling  Finishing  Tackle  Overall  \n",
       "0       95.0      85.0       91.0       94.0     NaN     94.0  \n",
       "1       83.0      77.0       86.0       94.0     NaN     92.0  \n",
       "2       87.0      62.0       85.0       91.0     NaN     91.0  \n",
       "3       86.0      68.0       84.0       91.0     NaN     90.0  \n",
       "4       86.0      80.0       90.0       85.0     NaN     89.0  "
      ]
     },
     "execution_count": 16,
     "metadata": {},
     "output_type": "execute_result"
    }
   ],
   "source": [
    "import os\n",
    "import re\n",
    "\n",
    "path = \"C:\\\\Users\\\\User\\\\OneDrive\\\\Advanced Data Analytics\\\\Home Assignment Research\\\\GitHub\\\\-com.mcast.adad2023.a02.Nwafor_Emmanuel\\\\football_striker_score.csv\"\n",
    "\n",
    "# Remove all Unicode escape sequences from the file path\n",
    "cleaned_path = re.sub(r\"\\\\U[0-9a-fA-F]{8}\", \"\", path)\n",
    "\n",
    "# Check if any Unicode escape sequences were removed\n",
    "if cleaned_path != path:\n",
    "    print(\"Removed Unicode escape sequences from the file path:\", cleaned_path)\n",
    "\n",
    "# Read the CSV file using the cleaned path\n",
    "dataset = pd.read_csv(cleaned_path)\n",
    "\n",
    "# Print the first five rows of the dataset\n",
    "dataset.head()"
   ]
  },
  {
   "cell_type": "markdown",
   "metadata": {},
   "source": [
    "#### Displaying general information about the DATASET"
   ]
  },
  {
   "cell_type": "code",
   "execution_count": 17,
   "metadata": {},
   "outputs": [
    {
     "name": "stdout",
     "output_type": "stream",
     "text": [
      "<class 'pandas.core.frame.DataFrame'>\n",
      "RangeIndex: 3100 entries, 0 to 3099\n",
      "Data columns (total 13 columns):\n",
      " #   Column        Non-Null Count  Dtype  \n",
      "---  ------        --------------  -----  \n",
      " 0   ID            3100 non-null   int64  \n",
      " 1   Age           3097 non-null   float64\n",
      " 2   Acceleration  3097 non-null   float64\n",
      " 3   Aggression    3097 non-null   float64\n",
      " 4   Agility       3097 non-null   float64\n",
      " 5   Balance       3097 non-null   float64\n",
      " 6   BallControl   3097 non-null   float64\n",
      " 7   Composure     3097 non-null   float64\n",
      " 8   Crossing      3097 non-null   float64\n",
      " 9   Dribbling     3097 non-null   float64\n",
      " 10  Finishing     3097 non-null   float64\n",
      " 11  Tackle        0 non-null      float64\n",
      " 12  Overall       3097 non-null   float64\n",
      "dtypes: float64(12), int64(1)\n",
      "memory usage: 315.0 KB\n",
      "None\n"
     ]
    }
   ],
   "source": [
    "import os\n",
    "import re\n",
    "\n",
    "path = \"C:\\\\Users\\\\User\\\\OneDrive\\\\Advanced Data Analytics\\\\Home Assignment Research\\\\GitHub\\\\-com.mcast.adad2023.a02.Nwafor_Emmanuel\\\\football_striker_score.csv\"\n",
    "\n",
    "# Remove all Unicode escape sequences from the file path\n",
    "cleaned_path = re.sub(r\"\\\\U[0-9a-fA-F]{8}\", \"\", path)\n",
    "\n",
    "# Check if any Unicode escape sequences were removed\n",
    "if cleaned_path != path:\n",
    "    print(\"Removed Unicode escape sequences from the file path:\", cleaned_path)\n",
    "\n",
    "# Read the CSV file using the cleaned path\n",
    "dataset = pd.read_csv(cleaned_path)\n",
    "\n",
    "# Display the general information of the dataset\n",
    "print(dataset.info())\n"
   ]
  },
  {
   "cell_type": "markdown",
   "metadata": {},
   "source": [
    "# Data Cleaning"
   ]
  },
  {
   "cell_type": "code",
   "execution_count": 26,
   "metadata": {},
   "outputs": [
    {
     "name": "stdout",
     "output_type": "stream",
     "text": [
      "Null values in the dataset:\n",
      "          ID    Age  Acceleration  Aggression  Agility  Balance  BallControl  \\\n",
      "0     False  False         False       False    False    False        False   \n",
      "1     False  False         False       False    False    False        False   \n",
      "2     False  False         False       False    False    False        False   \n",
      "3     False  False         False       False    False    False        False   \n",
      "4     False  False         False       False    False    False        False   \n",
      "...     ...    ...           ...         ...      ...      ...          ...   \n",
      "3095  False  False         False       False    False    False        False   \n",
      "3096  False  False         False       False    False    False        False   \n",
      "3097  False  False         False       False    False    False        False   \n",
      "3098  False  False         False       False    False    False        False   \n",
      "3099  False  False         False       False    False    False        False   \n",
      "\n",
      "      Composure  Crossing  Dribbling  Finishing  Tackle  Overall  \n",
      "0         False     False      False      False    True    False  \n",
      "1         False     False      False      False    True    False  \n",
      "2         False     False      False      False    True    False  \n",
      "3         False     False      False      False    True    False  \n",
      "4         False     False      False      False    True    False  \n",
      "...         ...       ...        ...        ...     ...      ...  \n",
      "3095      False     False      False      False    True    False  \n",
      "3096      False     False      False      False    True    False  \n",
      "3097      False     False      False      False    True    False  \n",
      "3098      False     False      False      False    True    False  \n",
      "3099      False     False      False      False    True    False  \n",
      "\n",
      "[3100 rows x 13 columns]\n"
     ]
    }
   ],
   "source": [
    "import os\n",
    "import re\n",
    "\n",
    "path = \"C:\\\\Users\\\\User\\\\OneDrive\\\\Advanced Data Analytics\\\\Home Assignment Research\\\\GitHub\\\\-com.mcast.adad2023.a02.Nwafor_Emmanuel\\\\football_striker_score.csv\"\n",
    "\n",
    "# Remove all Unicode escape sequences from the file path\n",
    "cleaned_path = re.sub(r\"\\\\U[0-9a-fA-F]{8}\", \"\", path)\n",
    "\n",
    "# Check if any Unicode escape sequences were removed\n",
    "if cleaned_path != path:\n",
    "    (\"Removed Unicode escape sequences from the file path:\", cleaned_path)\n",
    "\n",
    "# Read the CSV file using the cleaned path\n",
    "dataset = pd.read_csv(cleaned_path)\n",
    "\n",
    "# Check for null values in the dataset\n",
    "null_values = dataset.isna()\n",
    "\n",
    "# Display the null values\n",
    "print(\"Null values in the dataset:\\n\", null_values)\n"
   ]
  },
  {
   "cell_type": "markdown",
   "metadata": {},
   "source": [
    "### "
   ]
  },
  {
   "cell_type": "code",
   "execution_count": 29,
   "metadata": {},
   "outputs": [
    {
     "name": "stdout",
     "output_type": "stream",
     "text": [
      "<class 'pandas.core.frame.DataFrame'>\n",
      "RangeIndex: 3100 entries, 0 to 3099\n",
      "Data columns (total 1 columns):\n",
      " #   Column  Non-Null Count  Dtype\n",
      "---  ------  --------------  -----\n",
      " 0   ID      3100 non-null   int64\n",
      "dtypes: int64(1)\n",
      "memory usage: 24.3 KB\n"
     ]
    }
   ],
   "source": [
    "import os\n",
    "import re\n",
    "\n",
    "path = \"C:\\\\Users\\\\User\\\\OneDrive\\\\Advanced Data Analytics\\\\Home Assignment Research\\\\GitHub\\\\-com.mcast.adad2023.a02.Nwafor_Emmanuel\\\\football_striker_score.csv\"\n",
    "\n",
    "# Remove all Unicode escape sequences from the file path\n",
    "cleaned_path = re.sub(r\"\\\\U[0-9a-fA-F]{8}\", \"\", path)\n",
    "\n",
    "# Check if any Unicode escape sequences were removed\n",
    "if cleaned_path != path:\n",
    "    print(\"Removed Unicode escape sequences from the path:\", cleaned_path)\n",
    "\n",
    "# Read the CSV file using the cleaned path\n",
    "dataset = pd.read_csv(cleaned_path)\n",
    "\n",
    "# Drop columns that have no values\n",
    "dataset.dropna(axis=1, inplace=True)\n",
    "\n",
    "# Display information about the dataset\n",
    "dataset.info()\n"
   ]
  }
 ],
 "metadata": {
  "kernelspec": {
   "display_name": "base",
   "language": "python",
   "name": "python3"
  },
  "language_info": {
   "codemirror_mode": {
    "name": "ipython",
    "version": 3
   },
   "file_extension": ".py",
   "mimetype": "text/x-python",
   "name": "python",
   "nbconvert_exporter": "python",
   "pygments_lexer": "ipython3",
   "version": "3.10.6"
  }
 },
 "nbformat": 4,
 "nbformat_minor": 2
}
